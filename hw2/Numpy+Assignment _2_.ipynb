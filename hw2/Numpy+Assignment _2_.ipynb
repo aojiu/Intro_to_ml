{
 "cells": [
  {
   "cell_type": "markdown",
   "metadata": {},
   "source": [
    "# Numpy Assignment\n",
    "\n",
    "Numpy is a library for numerical computing.\n",
    "\n",
    "This assignment covers the important numpy commands which will be used in all the programming assignments for this course. "
   ]
  },
  {
   "cell_type": "markdown",
   "metadata": {},
   "source": [
    "Basics: NumPy’s main object is the homogeneous multidimensional array. It is a table of elements (usually numbers), all of the same type, indexed by a tuple of positive integers. In NumPy dimensions are called axes. The number of axes is rank.\n",
    "For example, the coordinates of a point in 3D space [1, 2, 1] is an array of rank 1, because it has one axis i.e. just a single row. That axis has a length of 3. "
   ]
  },
  {
   "cell_type": "markdown",
   "metadata": {},
   "source": [
    "# Array Creation\n",
    "\n",
    "Numpy arrays behave similar to n-dimensional matrices in matlab.\n",
    "\n",
    "There are several ways to create an array: Two methods are shown below. Before moving ahead, lets first import numpy.  "
   ]
  },
  {
   "cell_type": "code",
   "execution_count": 1,
   "metadata": {},
   "outputs": [],
   "source": [
    "# Just run this code cell by pressing shift+enter\n",
    "import numpy as np"
   ]
  },
  {
   "cell_type": "code",
   "execution_count": 2,
   "metadata": {},
   "outputs": [
    {
     "name": "stdout",
     "output_type": "stream",
     "text": [
      "[3 6 2]\n"
     ]
    }
   ],
   "source": [
    "# Method 1 for creating an array: passing a list of numbers.\n",
    "a=np.array([3,6,2])\n",
    "print(a)"
   ]
  },
  {
   "cell_type": "code",
   "execution_count": 3,
   "metadata": {},
   "outputs": [
    {
     "name": "stdout",
     "output_type": "stream",
     "text": [
      "[9 6 3 1]\n"
     ]
    }
   ],
   "source": [
    "# Create an array b having elements 9,6,3,1. \n",
    "# In the code below, remove None and write the numpy command to create an array having these elements. \n",
    "b = np.array([9,6,3,1])\n",
    "print(b)"
   ]
  },
  {
   "cell_type": "markdown",
   "metadata": {},
   "source": [
    " If you simply pass numbers as attributes, this will give an error. example: np.array(9,6,3,1) will give an error. Try it yourself in the code cell below."
   ]
  },
  {
   "cell_type": "code",
   "execution_count": 4,
   "metadata": {},
   "outputs": [
    {
     "ename": "ValueError",
     "evalue": "only 2 non-keyword arguments accepted",
     "output_type": "error",
     "traceback": [
      "\u001b[1;31m---------------------------------------------------------------------------\u001b[0m",
      "\u001b[1;31mValueError\u001b[0m                                Traceback (most recent call last)",
      "\u001b[1;32m<ipython-input-4-c32b00562fad>\u001b[0m in \u001b[0;36m<module>\u001b[1;34m()\u001b[0m\n\u001b[1;32m----> 1\u001b[1;33m \u001b[0mb\u001b[0m \u001b[1;33m=\u001b[0m \u001b[0mnp\u001b[0m\u001b[1;33m.\u001b[0m\u001b[0marray\u001b[0m\u001b[1;33m(\u001b[0m\u001b[1;36m9\u001b[0m\u001b[1;33m,\u001b[0m\u001b[1;36m6\u001b[0m\u001b[1;33m,\u001b[0m\u001b[1;36m3\u001b[0m\u001b[1;33m,\u001b[0m\u001b[1;36m1\u001b[0m\u001b[1;33m)\u001b[0m\u001b[1;33m\u001b[0m\u001b[0m\n\u001b[0m",
      "\u001b[1;31mValueError\u001b[0m: only 2 non-keyword arguments accepted"
     ]
    }
   ],
   "source": [
    "# b = np.array(9,6,3,1)"
   ]
  },
  {
   "cell_type": "markdown",
   "metadata": {},
   "source": [
    "Array transforms sequences of sequences into two-dimensional arrays. Sequences of sequences of sequences into three-dimensional arrays, and so on. Run example below which is a 2-dimensional array."
   ]
  },
  {
   "cell_type": "code",
   "execution_count": 5,
   "metadata": {},
   "outputs": [
    {
     "name": "stdout",
     "output_type": "stream",
     "text": [
      "[[1 2 3]\n",
      " [4 5 6]]\n"
     ]
    }
   ],
   "source": [
    "c = np.array([[1,2,3],[4,5,6]])\n",
    "print(c)"
   ]
  },
  {
   "cell_type": "markdown",
   "metadata": {},
   "source": [
    "Example of 3-dimensional array:"
   ]
  },
  {
   "cell_type": "code",
   "execution_count": 6,
   "metadata": {},
   "outputs": [
    {
     "name": "stdout",
     "output_type": "stream",
     "text": [
      "[[[ 1  2  3]\n",
      "  [ 4  5  6]]\n",
      "\n",
      " [[ 6  7  8]\n",
      "  [ 9 10 11]]]\n"
     ]
    }
   ],
   "source": [
    "# Just run this code cell: \n",
    "c = np.array([[[1,2,3],[4,5,6]],[[6,7,8],[9,10,11]]])\n",
    "print(c)"
   ]
  },
  {
   "cell_type": "code",
   "execution_count": 7,
   "metadata": {},
   "outputs": [
    {
     "name": "stdout",
     "output_type": "stream",
     "text": [
      "None\n"
     ]
    }
   ],
   "source": [
    "# Create a 2-dimensional array having elemnets [15,16,17] in the first row and [18,19,20 ] in the second row.\n",
    "c = None\n",
    "print(c)"
   ]
  },
  {
   "cell_type": "markdown",
   "metadata": {},
   "source": [
    "Method 2 for creating an array: using the \"arange\" function.  Numpy has a function called arange which is analogous to range function of python. arange function returns array instead of list. Example shown below."
   ]
  },
  {
   "cell_type": "code",
   "execution_count": 8,
   "metadata": {},
   "outputs": [
    {
     "name": "stdout",
     "output_type": "stream",
     "text": [
      "[0 1 2 3 4 5 6 7 8 9]\n"
     ]
    }
   ],
   "source": [
    "# Run this code cell\n",
    "a = np.arange(10)\n",
    "print(a)"
   ]
  },
  {
   "cell_type": "code",
   "execution_count": 9,
   "metadata": {},
   "outputs": [
    {
     "name": "stdout",
     "output_type": "stream",
     "text": [
      "[1 3 5 7 9]\n"
     ]
    }
   ],
   "source": [
    "# Run this code cell\n",
    "b = np.arange(1,10,2)\n",
    "# Creates an array of 1-dimension. The array values starts at 1, increments by 2 upto 10 (but not including 10). \n",
    "print(b)"
   ]
  },
  {
   "cell_type": "code",
   "execution_count": 13,
   "metadata": {},
   "outputs": [
    {
     "name": "stdout",
     "output_type": "stream",
     "text": [
      "[ 1  2  3  4  5  6  7  8  9 10 11 12 13 14 15]\n"
     ]
    }
   ],
   "source": [
    "# Create 1-d array using arange having elements from 1 to 15\n",
    "c = np.arange(1, 16)\n",
    "print(c)"
   ]
  },
  {
   "cell_type": "markdown",
   "metadata": {},
   "source": [
    "# Important attributes of the array object.\n",
    "Attribute description is given in the comments of the respective code cells.\n"
   ]
  },
  {
   "cell_type": "code",
   "execution_count": 14,
   "metadata": {},
   "outputs": [
    {
     "name": "stdout",
     "output_type": "stream",
     "text": [
      "[[1 2 3]\n",
      " [4 5 6]]\n"
     ]
    }
   ],
   "source": [
    "# Run this cell\n",
    "a = np.array([[1,2,3],[4,5,6]])\n",
    "print(a)"
   ]
  },
  {
   "cell_type": "code",
   "execution_count": 15,
   "metadata": {},
   "outputs": [
    {
     "data": {
      "text/plain": [
       "2"
      ]
     },
     "execution_count": 15,
     "metadata": {},
     "output_type": "execute_result"
    }
   ],
   "source": [
    "# ndarray.ndim gives the number of axes(dimensions) of the array. Run this cell\n",
    "a.ndim"
   ]
  },
  {
   "cell_type": "code",
   "execution_count": 16,
   "metadata": {},
   "outputs": [
    {
     "data": {
      "text/plain": [
       "(2, 3)"
      ]
     },
     "execution_count": 16,
     "metadata": {},
     "output_type": "execute_result"
    }
   ],
   "source": [
    "# ndarray.shape gives the tuple having the shape of the array. Run this cell. \n",
    "# Here, you can interpret the shape of a as having 2 rows and 3 columns.\n",
    "a.shape"
   ]
  },
  {
   "cell_type": "code",
   "execution_count": 17,
   "metadata": {},
   "outputs": [
    {
     "data": {
      "text/plain": [
       "6"
      ]
     },
     "execution_count": 17,
     "metadata": {},
     "output_type": "execute_result"
    }
   ],
   "source": [
    "# ndarray.size the total number of elements of the array. This is equal to the product of the elements of shape.\n",
    "a.size"
   ]
  },
  {
   "cell_type": "code",
   "execution_count": 18,
   "metadata": {},
   "outputs": [
    {
     "data": {
      "text/plain": [
       "dtype('int32')"
      ]
     },
     "execution_count": 18,
     "metadata": {},
     "output_type": "execute_result"
    }
   ],
   "source": [
    "# ndarray.dtype an object describing the type of the elements in the array.\n",
    "a.dtype"
   ]
  },
  {
   "cell_type": "code",
   "execution_count": 20,
   "metadata": {},
   "outputs": [
    {
     "name": "stdout",
     "output_type": "stream",
     "text": [
      "[[ 1  2  3  4  5]\n",
      " [ 6  7  8  9 10]]\n"
     ]
    }
   ],
   "source": [
    "# Create a numpy array having elements [1,2,3,4,5] in first row and [6,7,8,9,10] in the second row. \n",
    "b = np.array([[1,2,3,4,5],[6,7,8,9,10]])\n",
    "print(b)\n",
    "# Find the attributes shown in the above 4 cells.  Write the code below.\n"
   ]
  },
  {
   "cell_type": "code",
   "execution_count": 21,
   "metadata": {},
   "outputs": [
    {
     "name": "stdout",
     "output_type": "stream",
     "text": [
      "To get the first dimension:\n",
      "2\n",
      "To get the second dimension:\n",
      "3\n"
     ]
    }
   ],
   "source": [
    "# Sometimes we want to get an individual dimension of an array.  \n",
    "# We can index which dimension we want from the shape attribute.\n",
    "print(\"To get the first dimension:\")\n",
    "print(a.shape[0])\n",
    "print(\"To get the second dimension:\")\n",
    "print(a.shape[1])"
   ]
  },
  {
   "cell_type": "markdown",
   "metadata": {},
   "source": [
    "# Creating array of zeros and ones."
   ]
  },
  {
   "cell_type": "code",
   "execution_count": 22,
   "metadata": {},
   "outputs": [
    {
     "name": "stdout",
     "output_type": "stream",
     "text": [
      "[[0. 0. 0. 0.]\n",
      " [0. 0. 0. 0.]\n",
      " [0. 0. 0. 0.]]\n",
      "float64\n"
     ]
    }
   ],
   "source": [
    "# Array of zeros. The code below creates an array of zeros of the specified dimension.\n",
    "# Code below creates an array of zeros of dimension (3,4)\n",
    "a=np.zeros((3,4))\n",
    "print(a)\n",
    "print(a.dtype)"
   ]
  },
  {
   "cell_type": "code",
   "execution_count": 23,
   "metadata": {},
   "outputs": [
    {
     "name": "stdout",
     "output_type": "stream",
     "text": [
      "[[[1 1 1 1]\n",
      "  [1 1 1 1]\n",
      "  [1 1 1 1]]\n",
      "\n",
      " [[1 1 1 1]\n",
      "  [1 1 1 1]\n",
      "  [1 1 1 1]]]\n",
      "int16\n"
     ]
    }
   ],
   "source": [
    "# Array of ones. Here, dtype attribute specifies the data type of the elements of array. This is optional. \n",
    "# By default, it is float64 as you can see in the example of zeros above.\n",
    "# Array of ones with dimensions (2,3,4)\n",
    "b = np.ones( (2,3,4), dtype=np.int16 )\n",
    "print(b)\n",
    "print(b.dtype)"
   ]
  },
  {
   "cell_type": "code",
   "execution_count": 24,
   "metadata": {},
   "outputs": [
    {
     "name": "stdout",
     "output_type": "stream",
     "text": [
      "[[0. 0. 0. 0. 0. 0.]\n",
      " [0. 0. 0. 0. 0. 0.]\n",
      " [0. 0. 0. 0. 0. 0.]\n",
      " [0. 0. 0. 0. 0. 0.]\n",
      " [0. 0. 0. 0. 0. 0.]]\n"
     ]
    }
   ],
   "source": [
    "# Create an array of zeros of dimension (5,6) \n",
    "a=np.zeros((5,6))\n",
    "print(a)"
   ]
  },
  {
   "cell_type": "code",
   "execution_count": 25,
   "metadata": {},
   "outputs": [
    {
     "name": "stdout",
     "output_type": "stream",
     "text": [
      "[[1. 1. 1.]\n",
      " [1. 1. 1.]]\n"
     ]
    }
   ],
   "source": [
    "# Create an array of ones of dimension (2,3)\n",
    "b=np.ones((2, 3))\n",
    "print(b)"
   ]
  },
  {
   "cell_type": "markdown",
   "metadata": {},
   "source": [
    "# Reshape Function.\n",
    "\n",
    "Reshape function is used to reshape an array. See the example below. "
   ]
  },
  {
   "cell_type": "code",
   "execution_count": 35,
   "metadata": {},
   "outputs": [
    {
     "name": "stdout",
     "output_type": "stream",
     "text": [
      "The original array a\n",
      "[ 0  1  2  3  4  5  6  7  8  9 10 11 12 13 14]\n",
      "The array a reshaped with dimensions 3x5\n",
      "[[ 0  1  2  3  4]\n",
      " [ 5  6  7  8  9]\n",
      " [10 11 12 13 14]]\n"
     ]
    }
   ],
   "source": [
    "a = np.arange(15)\n",
    "print(\"The original array a\")\n",
    "print(a)\n",
    "print(\"The array a reshaped with dimensions 3x5\")\n",
    "print(a.reshape(3,5))"
   ]
  },
  {
   "cell_type": "code",
   "execution_count": 36,
   "metadata": {},
   "outputs": [
    {
     "name": "stdout",
     "output_type": "stream",
     "text": [
      "Notice that a didn't change\n",
      "[ 0  1  2  3  4  5  6  7  8  9 10 11 12 13 14]\n",
      "The dimensions of a:\n",
      "(15,)\n"
     ]
    }
   ],
   "source": [
    "# Reshape function doesn't change the shape of original array. \n",
    "print(\"Notice that a didn't change\")\n",
    "print(a)\n",
    "print(\"The dimensions of a:\")\n",
    "print(a.shape)"
   ]
  },
  {
   "cell_type": "code",
   "execution_count": 37,
   "metadata": {},
   "outputs": [
    {
     "name": "stdout",
     "output_type": "stream",
     "text": [
      "Notice a has been changed\n",
      "[[ 0  1  2  3  4]\n",
      " [ 5  6  7  8  9]\n",
      " [10 11 12 13 14]]\n",
      "The new dimensions of a:\n",
      "(3, 5)\n"
     ]
    }
   ],
   "source": [
    "# To change the shape of original array, use this. \n",
    "a = a.reshape(3,5)\n",
    "print(\"Notice a has been changed\")\n",
    "print(a)\n",
    "print(\"The new dimensions of a:\")\n",
    "print(a.shape)"
   ]
  },
  {
   "cell_type": "code",
   "execution_count": 38,
   "metadata": {},
   "outputs": [
    {
     "name": "stdout",
     "output_type": "stream",
     "text": [
      "[[0. 0. 0. 0. 0.]\n",
      " [0. 0. 0. 0. 0.]\n",
      " [0. 0. 0. 0. 0.]\n",
      " [0. 0. 0. 0. 0.]]\n",
      "[[0. 0.]\n",
      " [0. 0.]\n",
      " [0. 0.]\n",
      " [0. 0.]\n",
      " [0. 0.]\n",
      " [0. 0.]\n",
      " [0. 0.]\n",
      " [0. 0.]\n",
      " [0. 0.]\n",
      " [0. 0.]]\n"
     ]
    }
   ],
   "source": [
    "# Create an array of zeros of dimension (4,5)\n",
    "b= np.zeros((4, 5))\n",
    "print(b)\n",
    "# Reshape b to dimensions (10,2).\n",
    "b = b.reshape((10, 2))\n",
    "print(b)"
   ]
  },
  {
   "cell_type": "markdown",
   "metadata": {},
   "source": [
    "# Note:\n",
    "Whenever you use a 1 dimensional array, it is a rank 1 array. In the later assignments, you will see that we don't prefer to use rank 1 array. So, we can convert them to rank 2 using reshape function. "
   ]
  },
  {
   "cell_type": "code",
   "execution_count": 39,
   "metadata": {},
   "outputs": [
    {
     "name": "stdout",
     "output_type": "stream",
     "text": [
      "[1 2 3]\n",
      "(3,)\n"
     ]
    }
   ],
   "source": [
    "# Run this cell\n",
    "# Here we have a rank 1 matrix. See it's shape.\n",
    "a = np.array([1,2,3])\n",
    "print(a)\n",
    "print(a.shape)"
   ]
  },
  {
   "cell_type": "code",
   "execution_count": 40,
   "metadata": {},
   "outputs": [
    {
     "name": "stdout",
     "output_type": "stream",
     "text": [
      "The new shape of a\n",
      "[[1]\n",
      " [2]\n",
      " [3]]\n",
      "The array a's new dimensions:\n",
      "(3, 1)\n"
     ]
    }
   ],
   "source": [
    "# Run this cell\n",
    "a = a.reshape((3,1))\n",
    "# Notice that a changed from a sequence of numbers to a sequence of sequence of numbers\n",
    "print(\"The new shape of a\")\n",
    "print(a)\n",
    "print(\"The array a's new dimensions:\")\n",
    "print(a.shape)"
   ]
  },
  {
   "cell_type": "markdown",
   "metadata": {},
   "source": [
    "# Numpy.random.rand and Numpy.random.randn"
   ]
  },
  {
   "cell_type": "code",
   "execution_count": 41,
   "metadata": {},
   "outputs": [
    {
     "name": "stdout",
     "output_type": "stream",
     "text": [
      "[[0.36778722 0.36396599 0.31334446]\n",
      " [0.63090176 0.07257795 0.77131854]]\n"
     ]
    }
   ],
   "source": [
    "# Numpy.random.rand creates a numpy array of given dimensions where all the elements \n",
    "# are random samples from a uniform distribution over [0, 1).\n",
    "# Run this code cell.\n",
    "a = np.random.rand(2,3)\n",
    "print(a)"
   ]
  },
  {
   "cell_type": "markdown",
   "metadata": {},
   "source": [
    " Numpy.random.randn creates a numpy array of given dimensions where all the elements are  samples from univariate “normal” (Gaussian) distribution of mean 0 and variance 1"
   ]
  },
  {
   "cell_type": "code",
   "execution_count": 42,
   "metadata": {},
   "outputs": [
    {
     "name": "stdout",
     "output_type": "stream",
     "text": [
      "[[-0.66445702  0.38228907  0.74524019  1.16944511  1.16258935  1.23692679\n",
      "   0.14580794  0.86854923  0.2519057   1.81227001]\n",
      " [-1.46075092 -0.20681278 -0.93274266  0.11802126 -1.36194071 -0.73094693\n",
      "  -0.40403816 -1.61283693 -2.60000509  0.21802221]]\n"
     ]
    }
   ],
   "source": [
    "# Run this cell\n",
    "a = np.random.randn(2,10)\n",
    "print(a)"
   ]
  },
  {
   "cell_type": "markdown",
   "metadata": {},
   "source": [
    "Numpy can create an array having values from the normal distribution with mean = $\\mu$, and variance = $\\sigma^2$.\n",
    "\n",
    "To create a random array of elements from $N(\\mu, \\sigma^2)$, use: sigma = $\\sigma$, and mu = $\\mu$ and the numpy command:\n",
    "\n",
    "sigma * np.random.randn(...) + mu"
   ]
  },
  {
   "cell_type": "code",
   "execution_count": 43,
   "metadata": {},
   "outputs": [
    {
     "data": {
      "text/plain": [
       "array([[1.18571261, 6.02629296, 5.74684326, 4.7910709 ],\n",
       "       [3.76922257, 7.94442735, 2.30433899, 6.13764704]])"
      ]
     },
     "execution_count": 43,
     "metadata": {},
     "output_type": "execute_result"
    }
   ],
   "source": [
    "# Two-by-four array of samples from N(3, 6.25):\n",
    "a=2.5 * np.random.randn(2, 4) + 3\n",
    "a"
   ]
  },
  {
   "cell_type": "code",
   "execution_count": 45,
   "metadata": {},
   "outputs": [
    {
     "name": "stdout",
     "output_type": "stream",
     "text": [
      "[[5.31087236 2.37396388 4.27458608 5.00563706 8.14273706]\n",
      " [6.6421876  2.97794152 6.55028579 7.19443535 4.54373162]\n",
      " [4.05641122 6.8565074  7.33586118 4.15851053 0.67198755]]\n"
     ]
    }
   ],
   "source": [
    "# Create a numpy array dimension $3\\times 5$ containing random samples with mean (mu)= 5 \n",
    "# and standard deviation(sigma) = 2\n",
    "b = 2 * np.random.randn(3, 5) + 5\n",
    "print(b)"
   ]
  },
  {
   "cell_type": "markdown",
   "metadata": {},
   "source": [
    "# Basic Operations: \n",
    "Arithmetic operators on arrays apply elementwise. A new array is created and filled with the result."
   ]
  },
  {
   "cell_type": "code",
   "execution_count": 46,
   "metadata": {},
   "outputs": [
    {
     "name": "stdout",
     "output_type": "stream",
     "text": [
      "The array a:\n",
      "[20 30 40 50]\n",
      "The array b:\n",
      "[1 2 3 4]\n"
     ]
    }
   ],
   "source": [
    "# Run this code cell\n",
    "a = np.array( [20,30,40,50] )\n",
    "b = np.arange( 1,5 )\n",
    "print(\"The array a:\")\n",
    "print(a)\n",
    "print(\"The array b:\")\n",
    "print(b)"
   ]
  },
  {
   "cell_type": "code",
   "execution_count": 47,
   "metadata": {},
   "outputs": [
    {
     "name": "stdout",
     "output_type": "stream",
     "text": [
      "[19 28 37 46]\n"
     ]
    }
   ],
   "source": [
    "# To subtract corresponding elements of array b from array a , simply write a - b as shown below\n",
    "c = a - b\n",
    "print(c)"
   ]
  },
  {
   "cell_type": "code",
   "execution_count": 48,
   "metadata": {},
   "outputs": [
    {
     "name": "stdout",
     "output_type": "stream",
     "text": [
      "a + b:\n",
      "[21 32 43 54]\n",
      "a * b: \n",
      "[ 20  60 120 200]\n",
      "a/b:\n",
      "[20.         15.         13.33333333 12.5       ]\n"
     ]
    }
   ],
   "source": [
    "# similarly we can do addition, multiplication, division of corresponding elements. Complete the code to add, multiply and divide corresponding elements of a and b.\n",
    "addition = a + b # Add\n",
    "product = a * b  # Multiply\n",
    "ratio = a / b # Divide\n",
    "\n",
    "print(\"a + b:\")\n",
    "print(addition)\n",
    "print(\"a * b: \")\n",
    "print(product)\n",
    "print(\"a/b:\")\n",
    "print(ratio)"
   ]
  },
  {
   "cell_type": "code",
   "execution_count": 49,
   "metadata": {},
   "outputs": [
    {
     "name": "stdout",
     "output_type": "stream",
     "text": [
      "[ 1  4  9 16]\n"
     ]
    }
   ],
   "source": [
    "# Square all the elements of the array b and save it in an array d\n",
    "d = b**2\n",
    "print(d)"
   ]
  },
  {
   "cell_type": "code",
   "execution_count": 50,
   "metadata": {},
   "outputs": [
    {
     "name": "stdout",
     "output_type": "stream",
     "text": [
      "[ 9.12945251 -9.88031624  7.4511316  -2.62374854]\n"
     ]
    }
   ],
   "source": [
    "# Take sine of all the elements of a matrix and save it in another matrix d\n",
    "d=10*np.sin(a)\n",
    "print(d)"
   ]
  },
  {
   "cell_type": "code",
   "execution_count": 51,
   "metadata": {},
   "outputs": [
    {
     "name": "stdout",
     "output_type": "stream",
     "text": [
      "[ True  True False False]\n"
     ]
    }
   ],
   "source": [
    "# Run this cell to see how this works\n",
    "e= a<35\n",
    "print(e)"
   ]
  },
  {
   "cell_type": "markdown",
   "metadata": {},
   "source": [
    "# Matrix and vector operations\n",
    "\n",
    "Unlike in many matrix languages (like matlab), the product operator * operates elementwise in NumPy arrays. The matrix product can be performed using the dot function or the dot method:"
   ]
  },
  {
   "cell_type": "code",
   "execution_count": 52,
   "metadata": {},
   "outputs": [
    {
     "name": "stdout",
     "output_type": "stream",
     "text": [
      "[[1 1]\n",
      " [0 1]]\n",
      "[[2 0]\n",
      " [3 4]]\n"
     ]
    }
   ],
   "source": [
    "# Run this cell\n",
    "A = np.array( [[1,1],[0,1]] )\n",
    "B = np.array( [[2,0], [3,4]] )\n",
    "print(A)\n",
    "print(B)"
   ]
  },
  {
   "cell_type": "code",
   "execution_count": 53,
   "metadata": {},
   "outputs": [
    {
     "name": "stdout",
     "output_type": "stream",
     "text": [
      "[[2 0]\n",
      " [0 4]]\n"
     ]
    }
   ],
   "source": [
    "# Element wise product. Note: Dimensions should be same for A and B\n",
    "C = A * B\n",
    "print(C)"
   ]
  },
  {
   "cell_type": "code",
   "execution_count": 54,
   "metadata": {},
   "outputs": [
    {
     "name": "stdout",
     "output_type": "stream",
     "text": [
      "[[5 4]\n",
      " [3 4]]\n"
     ]
    }
   ],
   "source": [
    "# The dot method for matrix multiplication.\n",
    "# Dimensions should be in accordance to linear algbra rule of Matrix-Matrix or Matrix-Vector multiplication.\n",
    "D = A.dot(B) \n",
    "print(D)"
   ]
  },
  {
   "cell_type": "code",
   "execution_count": 55,
   "metadata": {},
   "outputs": [
    {
     "name": "stdout",
     "output_type": "stream",
     "text": [
      "[[5 4]\n",
      " [3 4]]\n"
     ]
    }
   ],
   "source": [
    "# Another way to multiply matrices is to use np.dot() function.\n",
    "D = np.dot(A,B)\n",
    "print(D)"
   ]
  },
  {
   "cell_type": "code",
   "execution_count": 56,
   "metadata": {},
   "outputs": [
    {
     "name": "stdout",
     "output_type": "stream",
     "text": [
      "mat1:\n",
      "[[0.44819165 0.60282881 0.6511681  0.89243717]\n",
      " [0.73038495 0.7222131  0.23765413 0.17234734]\n",
      " [0.48465189 0.81585739 0.37823732 0.10020755]]\n",
      "mat2:\n",
      "[[0.02097356 0.54065402]\n",
      " [0.38635448 0.88171059]\n",
      " [0.49167525 0.45220257]\n",
      " [0.94192991 0.31494293]]\n",
      "mat1 times mat2:\n",
      "[[1.40308229 1.34936383]\n",
      " [0.5735368  1.19341588]\n",
      " [0.60573345 1.18397865]]\n"
     ]
    }
   ],
   "source": [
    "# Create a random matrix of dimension (3,4) and another random matrix of dimension (4,2) and find their dot product. \n",
    "# Also, check the dimensions of the resultant matrix.\n",
    "mat1=np.random.rand(3,4)\n",
    "mat2=np.random.rand(4,2)\n",
    "dot_product=np.dot(mat1, mat2)\n",
    "print(\"mat1:\")\n",
    "print(mat1)\n",
    "print(\"mat2:\")\n",
    "print(mat2)\n",
    "print(\"mat1 times mat2:\")\n",
    "print(dot_product)"
   ]
  },
  {
   "cell_type": "markdown",
   "metadata": {},
   "source": [
    "Many unary operations, such as computing the sum of all the elements in the array, are implemented as methods of the ndarray class."
   ]
  },
  {
   "cell_type": "code",
   "execution_count": 58,
   "metadata": {},
   "outputs": [
    {
     "name": "stdout",
     "output_type": "stream",
     "text": [
      "[[0.63587564 0.7093002  0.00885486]\n",
      " [0.03519418 0.80196865 0.00717912]]\n"
     ]
    }
   ],
   "source": [
    "# Run this cell\n",
    "a = np.random.random((2,3))\n",
    "print(a)"
   ]
  },
  {
   "cell_type": "code",
   "execution_count": 59,
   "metadata": {},
   "outputs": [
    {
     "name": "stdout",
     "output_type": "stream",
     "text": [
      "2.1983726460140454\n"
     ]
    }
   ],
   "source": [
    "# Calculating sum of all the elements of the array. \n",
    "# This method considers all the elements of array as a long list of numbers regardless of the shape.\n",
    "add = a.sum()\n",
    "print(add)"
   ]
  },
  {
   "cell_type": "code",
   "execution_count": 60,
   "metadata": {},
   "outputs": [
    {
     "name": "stdout",
     "output_type": "stream",
     "text": [
      "minimum = 0.80196865\n",
      "maximum = 0.00717912\n"
     ]
    }
   ],
   "source": [
    "# Find minimum and maximum from all the elements using a.min() and a.max() command.\n",
    "minimum = a.max()\n",
    "maximum = a.min()\n",
    "print(\"minimum = %9.8f\"%(minimum))\n",
    "print(\"maximum = %9.8f\"%(maximum))"
   ]
  },
  {
   "cell_type": "code",
   "execution_count": 62,
   "metadata": {},
   "outputs": [
    {
     "name": "stdout",
     "output_type": "stream",
     "text": [
      "The array a:\n",
      "[[0.01401379 0.87553723 0.6917779  0.57127834 0.07567071 0.60953064]\n",
      " [0.52710539 0.79662746 0.75461623 0.78781387 0.82921377 0.78214794]\n",
      " [0.26663163 0.45391515 0.50860348 0.69426595 0.1951273  0.68429317]\n",
      " [0.99066064 0.92110451 0.06145123 0.24651276 0.96378603 0.25941714]]\n",
      "The sum of all elements of array a: 13.56110229\n",
      "minimum = 0.99066064\n",
      "maximum = 0.01401379\n"
     ]
    }
   ],
   "source": [
    "# Create a random array a of dimension (4,6) and find sum , min, max as shown above.\n",
    "a = np.random.random((4,6))\n",
    "add = a.sum()\n",
    "minimum=a.max()\n",
    "maximum=a.min()\n",
    "print(\"The array a:\")\n",
    "print(a)\n",
    "print(\"The sum of all elements of array a: %9.8f\"%(add))\n",
    "print(\"minimum = %9.8f\"%(minimum))\n",
    "print(\"maximum = %9.8f\"%(maximum))"
   ]
  },
  {
   "cell_type": "markdown",
   "metadata": {},
   "source": [
    "# Operations on rows or columns\n",
    "\n",
    "By default, these operations apply to the array as though it were a list of numbers, regardless of its shape. However, by specifying the axis parameter you can apply an operation along the specified axis of an array:"
   ]
  },
  {
   "cell_type": "code",
   "execution_count": null,
   "metadata": {
    "collapsed": true
   },
   "outputs": [],
   "source": [
    "# Run this cell\n",
    "B = np.arange(12).reshape(3,4)\n",
    "print(B)"
   ]
  },
  {
   "cell_type": "code",
   "execution_count": null,
   "metadata": {
    "collapsed": true
   },
   "outputs": [],
   "source": [
    "# sum along a column\n",
    "column_sum = B.sum(axis=0)  \n",
    "print(column_sum)"
   ]
  },
  {
   "cell_type": "code",
   "execution_count": 63,
   "metadata": {},
   "outputs": [
    {
     "name": "stdout",
     "output_type": "stream",
     "text": [
      "The row sums:\n",
      "[2 7]\n",
      "The minimum item in every row:\n",
      "2\n",
      "The minimum item in every column:\n",
      "7\n"
     ]
    }
   ],
   "source": [
    "# sum along a row. In sum function above, in place of axis=0, pass axis=1\n",
    "row_sum =B.sum(axis = 1)\n",
    "print(\"The row sums:\")\n",
    "print(row_sum)\n",
    "# Minimum along row\n",
    "min_row=row_sum.min()\n",
    "print(\"The minimum item in every row:\")\n",
    "print(min_row)\n",
    "# Minimum along column\n",
    "min_column= row_sum.max()\n",
    "print(\"The minimum item in every column:\")\n",
    "print(min_column)"
   ]
  },
  {
   "cell_type": "code",
   "execution_count": 64,
   "metadata": {},
   "outputs": [
    {
     "name": "stdout",
     "output_type": "stream",
     "text": [
      "The array B:\n",
      "[0 1 2]\n",
      "The array C:\n",
      "[1.         2.71828183 7.3890561 ]\n",
      "The array D:\n",
      "[0.         1.         1.41421356]\n"
     ]
    }
   ],
   "source": [
    "# To apply universal mathematical functions on all the elements of a matrix, we do so as shown below:\n",
    "B = np.arange(3)\n",
    "print(\"The array B:\")\n",
    "print(B)\n",
    "# Compute exponent of every element of B\n",
    "C = np.exp(B) \n",
    "print(\"The array C:\")\n",
    "print(C)\n",
    "# Compute sqrt of every element in B.  (You may get an error if an element in B is negative.)\n",
    "D = np.sqrt(B)\n",
    "print(\"The array D:\")\n",
    "print(D)"
   ]
  },
  {
   "cell_type": "code",
   "execution_count": 67,
   "metadata": {},
   "outputs": [
    {
     "name": "stdout",
     "output_type": "stream",
     "text": [
      "The array A:\n",
      "[[ 1.25237757 -0.10136223  0.01709634  0.28020576]\n",
      " [-0.65179083  2.05467864  0.55185571  0.27748955]]\n",
      "[[3.49865136 0.90360566 1.01724332 1.32340209]\n",
      " [0.52111172 7.80432946 1.73647243 1.31981232]]\n",
      "[[1.87046822 0.95058175 1.00858481 1.15039215]\n",
      " [0.72188068 2.793623   1.31775279 1.14883085]]\n",
      "[[ 0.62618878 -0.05068112  0.00854817  0.14010288]\n",
      " [-0.32589541  1.02733932  0.27592786  0.13874477]]\n"
     ]
    }
   ],
   "source": [
    "# Create a random matrix of dimensions (2,4) and apply the above three operations.\n",
    "A = np.random.randn(2, 4)\n",
    "print(\"The array A:\")\n",
    "print(A)\n",
    "# Apply operations on matrix A\n",
    "B = np.exp(A)\n",
    "print(B)\n",
    "C = np.sqrt(B)\n",
    "print(C)\n",
    "# Perform np.log( ).  (Note: you will get error if you try to take the log of a negative number.)\n",
    "D = np.log(C)\n",
    "print(D)"
   ]
  },
  {
   "cell_type": "markdown",
   "metadata": {},
   "source": [
    "# Transpose of a Matrix\n",
    "There are 2 ways to get transpose of a numpy array. Either using .T attribute or using np.transpose(matrix) method.\n",
    "Note: If you have a rank 1 matrix and you take it's transpose, it will be same as the original matrix."
   ]
  },
  {
   "cell_type": "code",
   "execution_count": 68,
   "metadata": {},
   "outputs": [
    {
     "name": "stdout",
     "output_type": "stream",
     "text": [
      "The original A:\n",
      "[[0 1]\n",
      " [2 3]]\n",
      "The transpose of A:\n",
      "[[0 2]\n",
      " [1 3]]\n"
     ]
    }
   ],
   "source": [
    "# Using .T attribute\n",
    "A = np.arange(4).reshape((2,2))\n",
    "B = A.T\n",
    "print(\"The original A:\")\n",
    "print(A)\n",
    "print(\"The transpose of A:\")\n",
    "print(B)"
   ]
  },
  {
   "cell_type": "code",
   "execution_count": 69,
   "metadata": {},
   "outputs": [
    {
     "name": "stdout",
     "output_type": "stream",
     "text": [
      "[[0 2]\n",
      " [1 3]]\n"
     ]
    }
   ],
   "source": [
    "# Using transpose method\n",
    "C = np.transpose(A)\n",
    "print(C)"
   ]
  },
  {
   "cell_type": "code",
   "execution_count": 71,
   "metadata": {},
   "outputs": [
    {
     "name": "stdout",
     "output_type": "stream",
     "text": [
      "X: \n",
      "[[-0.73115795 -0.47221829 -0.22120166]\n",
      " [-0.43542087 -0.26902895  0.51709168]\n",
      " [-0.63697649 -0.49711138 -1.72735407]\n",
      " [-0.08816594  0.50068218  1.35849067]]\n",
      "X Transpose: \n",
      "[[-0.73115795 -0.43542087 -0.63697649 -0.08816594]\n",
      " [-0.47221829 -0.26902895 -0.49711138  0.50068218]\n",
      " [-0.22120166  0.51709168 -1.72735407  1.35849067]]\n"
     ]
    }
   ],
   "source": [
    "# Create a random matrix X of dimension (4,3) and take it's transpose.\n",
    "X = np.random.randn(4, 3)\n",
    "# Find transpose of X using any of the above method\n",
    "Y = X.T\n",
    "print(\"X: \")\n",
    "print(X)\n",
    "print(\"X Transpose: \")\n",
    "print(Y)"
   ]
  },
  {
   "cell_type": "markdown",
   "metadata": {},
   "source": [
    "# Indexing, slicing and iterating\n",
    "\n",
    "Indexing, slicing and iterating on 1-dimensional arrays. \n",
    "\n",
    "Indexing, slicing and iterating is almost same as simple python lists for 1-dimensional arrays. \n",
    "\n",
    "Note: Index starts from 0."
   ]
  },
  {
   "cell_type": "code",
   "execution_count": 78,
   "metadata": {},
   "outputs": [
    {
     "name": "stdout",
     "output_type": "stream",
     "text": [
      "[   0    1    8   27   64  125  216  343  512  729 1000 1331 1728 2197\n",
      " 2744]\n"
     ]
    }
   ],
   "source": [
    "# Run this cell\n",
    "a = np.arange(15)**3\n",
    "print(a)"
   ]
  },
  {
   "cell_type": "code",
   "execution_count": 80,
   "metadata": {},
   "outputs": [
    {
     "name": "stdout",
     "output_type": "stream",
     "text": [
      "8\n",
      "64\n"
     ]
    }
   ],
   "source": [
    "# Indexing. Getting third element of a\n",
    "b = a[2]\n",
    "print(b)\n",
    "# Find fifth element of a\n",
    "c = a[4]\n",
    "print(c)"
   ]
  },
  {
   "cell_type": "code",
   "execution_count": 81,
   "metadata": {},
   "outputs": [
    {
     "name": "stdout",
     "output_type": "stream",
     "text": [
      "[  8  27  64 125]\n",
      "[ 64 125 216 343]\n"
     ]
    }
   ],
   "source": [
    "# Slicing. Getting elements from index 2 to 5.  (Note we do not get the item at index 6.)\n",
    "b = a[2:6]\n",
    "print(b)\n",
    "# Find elements from index 4 to 7.\n",
    "c = a[4:8]\n",
    "print(c)"
   ]
  },
  {
   "cell_type": "code",
   "execution_count": null,
   "metadata": {
    "collapsed": true
   },
   "outputs": [],
   "source": [
    "# Reversing 1-D array\n",
    "rev = a[::-1]\n",
    "print(rev)"
   ]
  },
  {
   "cell_type": "code",
   "execution_count": 82,
   "metadata": {},
   "outputs": [
    {
     "name": "stdout",
     "output_type": "stream",
     "text": [
      "[   8  125  512 1331]\n",
      "[  27  343 1331]\n"
     ]
    }
   ],
   "source": [
    "# Looping over some indices.\n",
    "# Start from index 2, stop before index 12 and jump or increment by 3.\n",
    "x = a[2:12:3]\n",
    "print(x)\n",
    "# Start from index 3, stop before index 12 and jump by 4.\n",
    "y = a[3:12:4]\n",
    "print(y)"
   ]
  },
  {
   "cell_type": "code",
   "execution_count": 83,
   "metadata": {},
   "outputs": [
    {
     "name": "stdout",
     "output_type": "stream",
     "text": [
      "0\n",
      "1\n",
      "8\n",
      "27\n",
      "64\n",
      "125\n",
      "216\n",
      "343\n",
      "512\n",
      "729\n",
      "1000\n",
      "1331\n",
      "1728\n",
      "2197\n",
      "2744\n"
     ]
    }
   ],
   "source": [
    "# Using a for loop to iterate:\n",
    "for i in a:\n",
    "    print(i)"
   ]
  },
  {
   "cell_type": "markdown",
   "metadata": {},
   "source": [
    "# Multidimensional arrays \n",
    "They can have one index per axis. These indices are given in a tuple separated by commas:"
   ]
  },
  {
   "cell_type": "code",
   "execution_count": 84,
   "metadata": {},
   "outputs": [
    {
     "name": "stdout",
     "output_type": "stream",
     "text": [
      "[[ 0  1  2]\n",
      " [ 3  4  5]\n",
      " [ 6  7  8]\n",
      " [ 9 10 11]]\n"
     ]
    }
   ],
   "source": [
    "# Run this code\n",
    "a = np.arange(12).reshape(4,3)\n",
    "print(a)"
   ]
  },
  {
   "cell_type": "code",
   "execution_count": 85,
   "metadata": {},
   "outputs": [
    {
     "name": "stdout",
     "output_type": "stream",
     "text": [
      "7\n"
     ]
    }
   ],
   "source": [
    "# Element in third row and second column of the matrix.  \n",
    "# Note due to indexing starting from 0, we use index 2 for the third row and we use index 1 for the second column\n",
    "print(a[2,1])"
   ]
  },
  {
   "cell_type": "code",
   "execution_count": 86,
   "metadata": {},
   "outputs": [
    {
     "name": "stdout",
     "output_type": "stream",
     "text": [
      "5\n"
     ]
    }
   ],
   "source": [
    "# Find element in second row and third column. \n",
    "b = a[1, 2]\n",
    "print(b)"
   ]
  },
  {
   "cell_type": "code",
   "execution_count": 87,
   "metadata": {},
   "outputs": [
    {
     "name": "stdout",
     "output_type": "stream",
     "text": [
      "[ 1  4  7 10]\n"
     ]
    }
   ],
   "source": [
    "# Getting each row in the second column of array a\n",
    "c = a[: , 1]\n",
    "print(c)"
   ]
  },
  {
   "cell_type": "code",
   "execution_count": 88,
   "metadata": {},
   "outputs": [
    {
     "name": "stdout",
     "output_type": "stream",
     "text": [
      "[3 4 5]\n"
     ]
    }
   ],
   "source": [
    "# Get each column in the second row of a.\n",
    "d = a[1, :]\n",
    "print(d)"
   ]
  },
  {
   "cell_type": "code",
   "execution_count": 89,
   "metadata": {},
   "outputs": [
    {
     "name": "stdout",
     "output_type": "stream",
     "text": [
      "[[3 4 5]\n",
      " [6 7 8]]\n"
     ]
    }
   ],
   "source": [
    "# a[i:j, : ] returns rows i+1 through j of the matrix.  (Yeah this is confusing due to indexing starting at 0!)\n",
    "# In the code below we get rows 2 through 3 of the matrix.  (We index from 1 to (3-1).) \n",
    "e = a[1:3, : ]\n",
    "print(e)"
   ]
  },
  {
   "cell_type": "code",
   "execution_count": 90,
   "metadata": {},
   "outputs": [
    {
     "name": "stdout",
     "output_type": "stream",
     "text": [
      "[ 9 10 11]\n"
     ]
    }
   ],
   "source": [
    "# Get the last row\n",
    "b = a[-1,:]\n",
    "print(b)"
   ]
  },
  {
   "cell_type": "code",
   "execution_count": 92,
   "metadata": {},
   "outputs": [
    {
     "name": "stdout",
     "output_type": "stream",
     "text": [
      "[ 2  5  8 11]\n"
     ]
    }
   ],
   "source": [
    "# Find last column\n",
    "c = a[:, -1]\n",
    "print(c)"
   ]
  },
  {
   "cell_type": "markdown",
   "metadata": {},
   "source": [
    "You can use a for loop to traverse through an array!!"
   ]
  },
  {
   "cell_type": "code",
   "execution_count": 93,
   "metadata": {},
   "outputs": [
    {
     "name": "stdout",
     "output_type": "stream",
     "text": [
      "0\n",
      "1\n",
      "2\n",
      "3\n",
      "4\n",
      "5\n",
      "6\n",
      "7\n",
      "8\n",
      "9\n",
      "10\n",
      "11\n"
     ]
    }
   ],
   "source": [
    "for i in range(a.shape[0]):\n",
    "    for j in range(a.shape[1]):\n",
    "        print(a[i][j])"
   ]
  },
  {
   "cell_type": "markdown",
   "metadata": {
    "collapsed": true
   },
   "source": [
    "# Stacking together different arrays.\n",
    "\n",
    "Several arrays can be stacked together along different axes:"
   ]
  },
  {
   "cell_type": "code",
   "execution_count": null,
   "metadata": {
    "collapsed": true
   },
   "outputs": [],
   "source": [
    "# Run this cell\n",
    "a = np.arange(4).reshape((2,2))\n",
    "print(a)"
   ]
  },
  {
   "cell_type": "code",
   "execution_count": null,
   "metadata": {
    "collapsed": true
   },
   "outputs": [],
   "source": [
    "# Run this cell\n",
    "b = np.arange(4,8).reshape((2,2))\n",
    "print(b)"
   ]
  },
  {
   "cell_type": "markdown",
   "metadata": {},
   "source": [
    "To stack array b at the bottom of array a, we use vstack command. Note, for vstack, number of columns in both arrays should be same i.e. a.shape[1] == b.shape[1]."
   ]
  },
  {
   "cell_type": "code",
   "execution_count": null,
   "metadata": {
    "collapsed": true
   },
   "outputs": [],
   "source": [
    "# Stacking b at the bottom of a.\n",
    "c = np.vstack((a,b))\n",
    "print(c)\n",
    "print(c.shape)"
   ]
  },
  {
   "cell_type": "code",
   "execution_count": null,
   "metadata": {
    "collapsed": true
   },
   "outputs": [],
   "source": [
    "# Horizontal stack. Stack a to the left of b. \n",
    "# Note, for hstack, number of rows in both arrays should be same i.e. a.shape[0] == b.shape[0].\n",
    "d = np.hstack((a,b))\n",
    "print(d)"
   ]
  },
  {
   "cell_type": "code",
   "execution_count": null,
   "metadata": {
    "collapsed": true
   },
   "outputs": [],
   "source": [
    "# Create an array a of dimension (3,2) and another array b of dimension (3,5). \n",
    "# Append one of them to the left of another i.e. hstack.\n",
    "a=None\n",
    "b=None \n",
    "c=None\n",
    "print(\"The array a:\")\n",
    "print(a)\n",
    "print(\"The array b:\")\n",
    "print(b)\n",
    "print(\"The array c:\")\n",
    "print(c)"
   ]
  },
  {
   "cell_type": "markdown",
   "metadata": {},
   "source": [
    "# Broadingcasting.\n",
    "\n",
    "This is an important feature of numpy arrays. Suppose we have an array a of dimension (4,5) and another array b of dimension (4,1). If we want to add both the arrays, is it possible according to linear algebra? The answer is NO because in Linear Algebra, to perform element-wise arithmetic operations, dimensions should be same. \n",
    "\n",
    "However, using broadcasting it is possible to add the arrays. Broadcasting copies the first column of b to other columns of b to make it of same size as of a i.e. make it of dimension (4,5) from (4,1). "
   ]
  },
  {
   "cell_type": "code",
   "execution_count": null,
   "metadata": {
    "collapsed": true
   },
   "outputs": [],
   "source": [
    "a = np.arange(20).reshape((4,5))\n",
    "print(a)"
   ]
  },
  {
   "cell_type": "code",
   "execution_count": null,
   "metadata": {
    "collapsed": true
   },
   "outputs": [],
   "source": [
    "b = np.arange(4).reshape((4,1))\n",
    "print(b)"
   ]
  },
  {
   "cell_type": "code",
   "execution_count": null,
   "metadata": {
    "collapsed": true
   },
   "outputs": [],
   "source": [
    "c = a + b\n",
    "print(c)"
   ]
  },
  {
   "cell_type": "markdown",
   "metadata": {},
   "source": [
    "For broadcasting to work, all the dimensions must be compatible. A dimension is compatible for both arrays either if  they are equal, or either of them is 1.  \n",
    "\n",
    "For example: array b has dimensions (2,3,4) and array c has dimensions (1,3,2).  The first dimension is compatible because c.shape[0]=1.  The second dimension is compatible because b.shape[1]==c.shape[1].  But the third dimension is not compatible becaue b.shape[2] $\\not =$ c.shape[2] and neither of them is 1.\n",
    "\n",
    "When operating on two arrays, NumPy compares their shapes element-wise. It starts with the trailing dimensions, and works its way forward. \n",
    "\n",
    "When either of the dimensions compared is one, the other is used. In other words, dimensions with size 1 are stretched or “copied” to match the other.\n",
    "In the following example, both the A and B arrays have axes with length one that are expanded to a larger size during the broadcast operation:\n",
    "\n",
    "A      (4d array):  8 x 1 x 6 x 1\n",
    "B      (3d array):      7 x 1 x 5\n",
    "Result (4d array):  8 x 7 x 6 x 5\n",
    "\n",
    "Another example:\n",
    "\n",
    "A      (3d array):  15 x 3 x 5\n",
    "B      (3d array):  15 x 1 x 5\n",
    "Result (3d array):  15 x 3 x 5\n",
    "\n",
    "Broadcasting rules can be confusing. But for now, you only need to know very basic broadcasting which is shown in the code cell above."
   ]
  },
  {
   "cell_type": "markdown",
   "metadata": {},
   "source": [
    "# Basic Linear Algebra Operations."
   ]
  },
  {
   "cell_type": "code",
   "execution_count": null,
   "metadata": {
    "collapsed": true
   },
   "outputs": [],
   "source": [
    "a = np.array([[1.0, 2.0], [3.0, 4.0]])\n",
    "print(a)"
   ]
  },
  {
   "cell_type": "code",
   "execution_count": null,
   "metadata": {
    "collapsed": true
   },
   "outputs": [],
   "source": [
    "# To find Inverse of matrix a:\n",
    "b = np.linalg.inv(a)\n",
    "print(b)"
   ]
  },
  {
   "cell_type": "code",
   "execution_count": null,
   "metadata": {
    "collapsed": true
   },
   "outputs": [],
   "source": [
    "# Creating Identity matrix: Identity matrix is always a square matrix.\n",
    "u = np.eye(3)\n",
    "print(u)"
   ]
  },
  {
   "cell_type": "code",
   "execution_count": null,
   "metadata": {
    "collapsed": true
   },
   "outputs": [],
   "source": [
    "# Finding Trace of a matrix\n",
    "c = np.trace(u)\n",
    "print(c)"
   ]
  },
  {
   "cell_type": "code",
   "execution_count": null,
   "metadata": {
    "collapsed": true
   },
   "outputs": [],
   "source": [
    "# Find eigen values of a matrix\n",
    "d = np.linalg.eig(a)\n",
    "print(d)"
   ]
  },
  {
   "cell_type": "markdown",
   "metadata": {},
   "source": [
    "# Automatic Reshaping"
   ]
  },
  {
   "cell_type": "code",
   "execution_count": null,
   "metadata": {
    "collapsed": true
   },
   "outputs": [],
   "source": [
    "# Run this cell\n",
    "a = np.arange(30)\n",
    "a.shape = 2,-1,3  # -1 means \"whatever is needed\"\n",
    "print(a.shape)\n",
    "print(a)"
   ]
  },
  {
   "cell_type": "markdown",
   "metadata": {},
   "source": [
    "This assignment ends here. We hope this assignment gives you basic knowledge of using numpy and it's arrays and perform basic operations. We highly encourage you to use official numpy documentation if you need more help while solving your machine learning assignments. https://docs.scipy.org/doc/numpy-dev/user/quickstart.html . One of the topic not covered in this assignment is indexing with arrays of indices and indexing with  boolean arrays. Though not used much in the programming assignments, but can be helpful in some scenarios. You can find them in the given link above."
   ]
  }
 ],
 "metadata": {
  "kernelspec": {
   "display_name": "Python 3",
   "language": "python",
   "name": "python3"
  },
  "language_info": {
   "codemirror_mode": {
    "name": "ipython",
    "version": 3
   },
   "file_extension": ".py",
   "mimetype": "text/x-python",
   "name": "python",
   "nbconvert_exporter": "python",
   "pygments_lexer": "ipython3",
   "version": "3.6.5"
  }
 },
 "nbformat": 4,
 "nbformat_minor": 2
}
